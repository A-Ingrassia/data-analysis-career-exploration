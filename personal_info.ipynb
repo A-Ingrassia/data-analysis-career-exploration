{
 "cells": [
  {
   "cell_type": "markdown",
   "id": "b37af5d2-b5d2-421b-9031-ce0ca56766ce",
   "metadata": {},
   "source": [
    "# Andrew Ingrassia |  *Personal Information*"
   ]
  },
  {
   "cell_type": "markdown",
   "id": "74ba66e5-0742-4ff1-9dc0-a8423b303a57",
   "metadata": {},
   "source": [
    "***"
   ]
  },
  {
   "cell_type": "markdown",
   "id": "b41ea0f3-25ac-4049-b6e4-0dee877db91c",
   "metadata": {},
   "source": [
    "### **BACKGROUND**"
   ]
  },
  {
   "cell_type": "markdown",
   "id": "2d595657-d010-4618-8da7-ab69558c4289",
   "metadata": {},
   "source": [
    "1) PERSONAL HISTORY\n",
    "\n",
    "I attended Lindenwood University in St. Charles, MO and obtained a bachelor's degree in \"Missions and Social Justice\" (an emphasis within Lindenwood's \"Christian Ministry Studies\" program) in 2011. At the time I was also a medic in the Missouri Army National Guard and worked part-time for a family member as a house painter. I pursued that particular degree with the intention of going on to seminary and eventually entering full-time ministry, but those plans changed near the end of my time at Lindenwood due to a significant shift in worldview. That being the case, I was uncertain about how to proceed with life after graduation. Life carried on regardless of my uncertainty, and I got married, had two children, and started a residential painting business where I carved out a comfortable niche for myself specializing in high-end interior painting and cabinet refinishing. Painting was a great career that paid well enough and afforded me plenty of my beloved autonomy and independence, but I became increasingly unsatisfied as time went on. I didn't feel challenged, and in 2019 I started exploring other options.\n",
    "\n",
    "\n",
    "2) WHY I CHOSE COMPUTER SCIENCE\n",
    "\n",
    "I have always been interested in computers, but had not seriously considered a career in computer science until after undergoing a battery of personality and career aptitude tests. Every assessment tool that I used indicated strongly that I ought to consider a career in computer science. This is due not only to fact that computer science happens to align with my personal interests, but also to the fact that I possess certain temperamental qualities and behavioral tendencies common among those who find themselves pursuing computer science related careers.\n",
    "    \n",
    "\n",
    "Here are some relevant snippets from my personality test results:\n",
    "\n",
    "- *Tendency to analyze systems and ideas thoroughly to create deep understanding*\n",
    "\n",
    "\n",
    "- *Tendency to enjoy designing creative solutions to highly abstract problems*\n",
    "\n",
    "\n",
    "- *Tendency to choose careers that allow them to use their intellect, analyze concepts, and think deeply*\n",
    "\n",
    "\n",
    "- *Tendency to enjoy working with ideas more than with people (tech/engineering = good | sales/nursing = bad)*\n",
    "\n",
    "\n",
    "- *Tendency to be fascinated with logical analysis, systems, and design*\n",
    "\n",
    "\n",
    "- *Innovative by nature and often drawn to cutting-edge fields such as technology, engineering, and the sciences*\n",
    "\n",
    "\n",
    "3) WHY I AM SELF-TAUGHT\n",
    "\n",
    "After a great deal of consideration, I decided to begin pursuing a second bachelor's degree in computer science. Because of the nature of my first degree, I had not yet completed the math courses required for application. I therefore began taking one math class at a time at my local community college until I fulfilled the requirements for application to Oregon State University's online post-baccalaureate computer science program, which I began in January of 2020. I had heard of \"self-taught programmers\" before, but by this point in time I was insufficiently familiar with the territory and never seriously considered taking that route. It wasn't until my second semester in OSU's program that I began to become acquainted with the vast expanse of readily available, high quality, and inexpensive (or in many instances completely free) computer science related educational resources. I came to the realization that even though it would mean forgoing a second degree, I could actually learn more effectively by teaching myself than I could by sticking with OSU's program. So after careful consideration, I decided to drop out of OSU in my second semester and began learning independently - a decision that I viewed as conveying the following advantages:\n",
    "    \n",
    "- *I could spend significantly less money and incur no additional student loan debt*\n",
    "\n",
    "\n",
    "- *I could learn at my own pace*\n",
    "\n",
    "\n",
    "- *I could learn exclusively from materials that I found to be more useful and effective compared to the OSU curriculum*\n",
    "\n",
    "\n",
    "- *I could focus more precisely on developing job-specific skills*\n",
    "\n",
    "\n",
    "- *I could have a more flexible schedule while I learned, freeing me up to watch my kids when needed (to save on daycare costs) as well as to pick up side work as a painter*\n",
    "    \n",
    "\n",
    "4) WHY I CHOSE DATA ANALYSIS\n",
    "\n",
    "I have felt drawn toward data science ever since I began thinking about switching careers. It strikes me as a field that is tailor-made for people with my temperament. I initially assumed that pursuing data science in any form was off the table because doing so would entail taking so many prerequisite math courses that I wouldn't be able to obtain a degree in a reasonable ammount of time. But I eventually came to understand that under the umbrella of “data science” exists a wide spectrum of responsibilities and associated educational requirements. I was thrilled to learn that a career in data analysis was an achievable goal within the constraints of my personal circumstances. Since then I have enjoyed learning to work with large datasets using Python in conjunction with tools like Pandas, Matplotlib, and Jupyter Notebooks. I feel as though I have found a niche into which my talents, personality, and interests fit perfectly, and I am excited to begin putting my newly acquired skills to work in the real world."
   ]
  }
 ],
 "metadata": {
  "kernelspec": {
   "display_name": "Python 3",
   "language": "python",
   "name": "python3"
  },
  "language_info": {
   "codemirror_mode": {
    "name": "ipython",
    "version": 3
   },
   "file_extension": ".py",
   "mimetype": "text/x-python",
   "name": "python",
   "nbconvert_exporter": "python",
   "pygments_lexer": "ipython3",
   "version": "3.8.8"
  }
 },
 "nbformat": 4,
 "nbformat_minor": 5
}
