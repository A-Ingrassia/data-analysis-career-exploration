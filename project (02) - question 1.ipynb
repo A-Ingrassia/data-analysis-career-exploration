{
 "cells": [
  {
   "cell_type": "markdown",
   "metadata": {},
   "source": [
    "# Andrew Ingrassia |  *Data Analysis Career Exploration*"
   ]
  },
  {
   "cell_type": "code",
   "execution_count": 6,
   "metadata": {},
   "outputs": [],
   "source": [
    "import pandas as pd\n",
    "from matplotlib import pyplot as plt\n",
    "\n",
    "df1 = pd.read_csv(\"DataAnalyst.csv\")     \n",
    "df2 = pd.read_csv(\"data_survey.csv\")           \n",
    "df3 = pd.read_csv(\"bls_projections.csv\")"
   ]
  },
  {
   "cell_type": "markdown",
   "metadata": {},
   "source": [
    "***"
   ]
  },
  {
   "cell_type": "markdown",
   "metadata": {},
   "source": [
    "## **QUESTION 1**: *How healthy is the data science job market?*"
   ]
  },
  {
   "cell_type": "markdown",
   "metadata": {},
   "source": [
    "1) ORGANIZING THE DATA"
   ]
  },
  {
   "cell_type": "code",
   "execution_count": 7,
   "metadata": {},
   "outputs": [],
   "source": [
    "# Creates a new df containing only data from df3 that is directly related to the question\n",
    "df3_growth = df3[[\"Occupation Title\", \n",
    "                  \"Employment 2019\", \"Employment 2029\", \n",
    "                  \"Employment Percent Change, 2019-2029\", \n",
    "                  \"Occupational Openings, 2019-2029 Annual Average\"]]\n",
    "\n",
    "# Sorts the new df according to projected % employment growth from 2019 - 2029 (top 15 only)\n",
    "df3_growth = df3_growth.sort_values(\"Employment Percent Change, 2019-2029\", ascending = False).head(15)\n",
    "\n",
    "# Renames the new df columns for clarity\n",
    "df3_growth = df3_growth.rename(columns = {\"Occupation Title\": \"Occupation\", \n",
    "                                          \"Employment 2019\": \"2019\", \n",
    "                                          \"Employment 2029\": \"2029\", \n",
    "                                          \"Employment Percent Change, 2019-2029\": \"Growth\", \n",
    "                                          \"Occupational Openings, 2019-2029 Annual Average\": \"Openings\"})\n",
    "\n",
    "# Assigns new index values representing each associated occupation's rank (according to projected employment growth)\n",
    "rank = [1, 2, 3, 4, 5, 6, 7, 8, 9, 10, 11, 12, 13, 14, 15]\n",
    "df3_growth[\"Rank\"] = rank\n",
    "df3_growth.set_index(\"Rank\", inplace = True)\n",
    "\n",
    "\n",
    "# Adds a \"Code\" column containing letters that each represent the associated occupation (wind turbine service tech = \"A\", etc.)\n",
    "occupation_codes = [\"A\", \"B\", \"C\", \"D\", \"E\", \"F\", \"G\", \"H\", \"I\", \"J\", \"K\", \"L\", \"M\", \"N\", \"O\"]\n",
    "df3_growth[\"Code\"] = occupation_codes"
   ]
  },
  {
   "cell_type": "markdown",
   "metadata": {},
   "source": [
    "***"
   ]
  },
  {
   "cell_type": "markdown",
   "metadata": {},
   "source": [
    "2) VIEWING THE MODIFIED DATAFRAME"
   ]
  },
  {
   "cell_type": "code",
   "execution_count": 8,
   "metadata": {},
   "outputs": [
    {
     "data": {
      "text/html": [
       "<div>\n",
       "<style scoped>\n",
       "    .dataframe tbody tr th:only-of-type {\n",
       "        vertical-align: middle;\n",
       "    }\n",
       "\n",
       "    .dataframe tbody tr th {\n",
       "        vertical-align: top;\n",
       "    }\n",
       "\n",
       "    .dataframe thead th {\n",
       "        text-align: right;\n",
       "    }\n",
       "</style>\n",
       "<table border=\"1\" class=\"dataframe\">\n",
       "  <thead>\n",
       "    <tr style=\"text-align: right;\">\n",
       "      <th></th>\n",
       "      <th>Occupation</th>\n",
       "      <th>2019</th>\n",
       "      <th>2029</th>\n",
       "      <th>Growth</th>\n",
       "      <th>Openings</th>\n",
       "      <th>Code</th>\n",
       "    </tr>\n",
       "    <tr>\n",
       "      <th>Rank</th>\n",
       "      <th></th>\n",
       "      <th></th>\n",
       "      <th></th>\n",
       "      <th></th>\n",
       "      <th></th>\n",
       "      <th></th>\n",
       "    </tr>\n",
       "  </thead>\n",
       "  <tbody>\n",
       "    <tr>\n",
       "      <th>1</th>\n",
       "      <td>Wind turbine service technicians    * Wind Ene...</td>\n",
       "      <td>7.0</td>\n",
       "      <td>11.3</td>\n",
       "      <td>60.7</td>\n",
       "      <td>1.3</td>\n",
       "      <td>A</td>\n",
       "    </tr>\n",
       "    <tr>\n",
       "      <th>2</th>\n",
       "      <td>Nurse practitioners    * Acute Care Nurse Prac...</td>\n",
       "      <td>211.3</td>\n",
       "      <td>322.0</td>\n",
       "      <td>52.4</td>\n",
       "      <td>24.2</td>\n",
       "      <td>B</td>\n",
       "    </tr>\n",
       "    <tr>\n",
       "      <th>3</th>\n",
       "      <td>Solar photovoltaic installers    * PV Installe...</td>\n",
       "      <td>12.0</td>\n",
       "      <td>18.1</td>\n",
       "      <td>50.5</td>\n",
       "      <td>2.3</td>\n",
       "      <td>C</td>\n",
       "    </tr>\n",
       "    <tr>\n",
       "      <th>4</th>\n",
       "      <td>Statisticians    * Analytical Statistician* Ap...</td>\n",
       "      <td>42.7</td>\n",
       "      <td>57.5</td>\n",
       "      <td>34.6</td>\n",
       "      <td>4.9</td>\n",
       "      <td>D</td>\n",
       "    </tr>\n",
       "    <tr>\n",
       "      <th>5</th>\n",
       "      <td>Occupational therapy assistants    * COTA* Cer...</td>\n",
       "      <td>47.1</td>\n",
       "      <td>63.5</td>\n",
       "      <td>34.6</td>\n",
       "      <td>6.9</td>\n",
       "      <td>E</td>\n",
       "    </tr>\n",
       "    <tr>\n",
       "      <th>6</th>\n",
       "      <td>Home health and personal care aides</td>\n",
       "      <td>3,439.7</td>\n",
       "      <td>4,599.2</td>\n",
       "      <td>33.7</td>\n",
       "      <td>568.8</td>\n",
       "      <td>F</td>\n",
       "    </tr>\n",
       "    <tr>\n",
       "      <th>7</th>\n",
       "      <td>Physical therapist assistants    * LPTA* Licen...</td>\n",
       "      <td>98.7</td>\n",
       "      <td>130.9</td>\n",
       "      <td>32.6</td>\n",
       "      <td>15.1</td>\n",
       "      <td>G</td>\n",
       "    </tr>\n",
       "    <tr>\n",
       "      <th>8</th>\n",
       "      <td>Medical and health services managers    * Clin...</td>\n",
       "      <td>422.3</td>\n",
       "      <td>555.5</td>\n",
       "      <td>31.5</td>\n",
       "      <td>47.0</td>\n",
       "      <td>H</td>\n",
       "    </tr>\n",
       "    <tr>\n",
       "      <th>9</th>\n",
       "      <td>Physician assistants    * Anesthesiologist Ass...</td>\n",
       "      <td>125.5</td>\n",
       "      <td>164.8</td>\n",
       "      <td>31.3</td>\n",
       "      <td>11.4</td>\n",
       "      <td>I</td>\n",
       "    </tr>\n",
       "    <tr>\n",
       "      <th>10</th>\n",
       "      <td>Information security analysts</td>\n",
       "      <td>131.0</td>\n",
       "      <td>171.9</td>\n",
       "      <td>31.2</td>\n",
       "      <td>13.9</td>\n",
       "      <td>J</td>\n",
       "    </tr>\n",
       "    <tr>\n",
       "      <th>11</th>\n",
       "      <td>Data scientists and mathematical science occup...</td>\n",
       "      <td>33.2</td>\n",
       "      <td>43.4</td>\n",
       "      <td>30.9</td>\n",
       "      <td>3.6</td>\n",
       "      <td>K</td>\n",
       "    </tr>\n",
       "    <tr>\n",
       "      <th>12</th>\n",
       "      <td>Derrick operators, oil and gas    * Derrick Op...</td>\n",
       "      <td>12.0</td>\n",
       "      <td>15.7</td>\n",
       "      <td>30.5</td>\n",
       "      <td>2.0</td>\n",
       "      <td>L</td>\n",
       "    </tr>\n",
       "    <tr>\n",
       "      <th>13</th>\n",
       "      <td>Rotary drill operators, oil and gas    * Drill...</td>\n",
       "      <td>20.9</td>\n",
       "      <td>26.6</td>\n",
       "      <td>26.9</td>\n",
       "      <td>3.4</td>\n",
       "      <td>M</td>\n",
       "    </tr>\n",
       "    <tr>\n",
       "      <th>14</th>\n",
       "      <td>Roustabouts, oil and gas    * Oil Field Rousta...</td>\n",
       "      <td>58.5</td>\n",
       "      <td>73.1</td>\n",
       "      <td>25.1</td>\n",
       "      <td>8.8</td>\n",
       "      <td>N</td>\n",
       "    </tr>\n",
       "    <tr>\n",
       "      <th>15</th>\n",
       "      <td>Speech-language pathologists    * Language Pat...</td>\n",
       "      <td>162.6</td>\n",
       "      <td>203.1</td>\n",
       "      <td>24.9</td>\n",
       "      <td>13.7</td>\n",
       "      <td>O</td>\n",
       "    </tr>\n",
       "  </tbody>\n",
       "</table>\n",
       "</div>"
      ],
      "text/plain": [
       "                                             Occupation     2019     2029  \\\n",
       "Rank                                                                        \n",
       "1     Wind turbine service technicians    * Wind Ene...      7.0     11.3   \n",
       "2     Nurse practitioners    * Acute Care Nurse Prac...    211.3    322.0   \n",
       "3     Solar photovoltaic installers    * PV Installe...     12.0     18.1   \n",
       "4     Statisticians    * Analytical Statistician* Ap...     42.7     57.5   \n",
       "5     Occupational therapy assistants    * COTA* Cer...     47.1     63.5   \n",
       "6                   Home health and personal care aides  3,439.7  4,599.2   \n",
       "7     Physical therapist assistants    * LPTA* Licen...     98.7    130.9   \n",
       "8     Medical and health services managers    * Clin...    422.3    555.5   \n",
       "9     Physician assistants    * Anesthesiologist Ass...    125.5    164.8   \n",
       "10                        Information security analysts    131.0    171.9   \n",
       "11    Data scientists and mathematical science occup...     33.2     43.4   \n",
       "12    Derrick operators, oil and gas    * Derrick Op...     12.0     15.7   \n",
       "13    Rotary drill operators, oil and gas    * Drill...     20.9     26.6   \n",
       "14    Roustabouts, oil and gas    * Oil Field Rousta...     58.5     73.1   \n",
       "15    Speech-language pathologists    * Language Pat...    162.6    203.1   \n",
       "\n",
       "      Growth  Openings Code  \n",
       "Rank                         \n",
       "1       60.7       1.3    A  \n",
       "2       52.4      24.2    B  \n",
       "3       50.5       2.3    C  \n",
       "4       34.6       4.9    D  \n",
       "5       34.6       6.9    E  \n",
       "6       33.7     568.8    F  \n",
       "7       32.6      15.1    G  \n",
       "8       31.5      47.0    H  \n",
       "9       31.3      11.4    I  \n",
       "10      31.2      13.9    J  \n",
       "11      30.9       3.6    K  \n",
       "12      30.5       2.0    L  \n",
       "13      26.9       3.4    M  \n",
       "14      25.1       8.8    N  \n",
       "15      24.9      13.7    O  "
      ]
     },
     "execution_count": 8,
     "metadata": {},
     "output_type": "execute_result"
    }
   ],
   "source": [
    "df3_growth   # modified version of the original \"df3\" dataframe"
   ]
  },
  {
   "cell_type": "markdown",
   "metadata": {},
   "source": [
    "***"
   ]
  },
  {
   "cell_type": "markdown",
   "metadata": {},
   "source": [
    "3) DATA OVERVIEW\n",
    "\n",
    "- According to the US Bureau of Labor Statistics, these 15 occupations (out of 790 in the original dataset) are projected to experience the highest percentages of employment growth between 2019 and 2029.\n",
    "\n",
    "\n",
    "- Notice that a high projected employment growth rate doesn't necessarily translate to a large number of job openings given that some industries are smaller than others. For example, the projected 60.7% increase in wind turbine maintenance related openings (\"A\") represents an increase of only 1,300 jobs, whereas the projected 24.9% increase in speech pathology related openings (\"O\") represents 13,700 jobs."
   ]
  },
  {
   "cell_type": "markdown",
   "metadata": {},
   "source": [
    "***"
   ]
  },
  {
   "cell_type": "markdown",
   "metadata": {},
   "source": [
    "4) COLUMN EXPLANATIONS\n",
    "\n",
    "- **Rank** - each occupation's rank according to the associated value within the the \"Growth\" column\n",
    "\n",
    "\n",
    "- **Occupation** - occupation titles\n",
    "\n",
    "\n",
    "- **2019** - employment (in thousands) within the associated occupation in 2019\n",
    "\n",
    "\n",
    "- **2029** - projected employment (in thousands) within the associated occupation by 2029\n",
    "\n",
    "\n",
    "- **Growth** - projected percent increase in employment within the associated occupation by 2029\n",
    "\n",
    "\n",
    "- **Openings** - projected annual average number (in thousands) of openings/positions for workers entering the associated occupation between 2019 and 2029\n",
    "\n",
    "\n",
    "- **Code** - each occupation title is assigned a letter that will represent that occupation within my visualization"
   ]
  },
  {
   "cell_type": "markdown",
   "metadata": {},
   "source": [
    "***"
   ]
  },
  {
   "cell_type": "markdown",
   "metadata": {},
   "source": [
    "5) VISUALIZING THE DATA"
   ]
  },
  {
   "cell_type": "code",
   "execution_count": 9,
   "metadata": {},
   "outputs": [
    {
     "data": {
      "image/png": "[encoded data removed]",
      "text/plain": [
       "<Figure size 792x288 with 1 Axes>"
      ]
     },
     "metadata": {
      "needs_background": "light"
     },
     "output_type": "display_data"
    }
   ],
   "source": [
    "# Creates the plot, sets the x and y axes, and determines the aesthetic characteristics of the bars\n",
    "plt.bar(df3_growth[\"Code\"], \n",
    "        df3_growth[\"Growth\"], \n",
    "        color = [\"b\", \"b\", \"b\", \"b\", \"b\", \"b\", \"b\", \"b\", \"b\", \"b\", \"green\", \"b\", \"b\", \"b\", \"b\"], \n",
    "        edgecolor = \"black\")\n",
    "\n",
    "# Adds a label to the x axis\n",
    "plt.xlabel(\"Occupation Codes\")\n",
    "\n",
    "# Adds a label to the y axis\n",
    "plt.ylabel(\"% Growth\")\n",
    "\n",
    "# Adds a title to the plot\n",
    "plt.title(\"PROJECTED EMPLOYMENT GROWTH 2019 - 2029\")\n",
    "\n",
    "# Customizes the plot dimensions\n",
    "plt.rcParams[\"figure.figsize\"] = [11, 4]"
   ]
  },
  {
   "cell_type": "markdown",
   "metadata": {},
   "source": [
    "***"
   ]
  },
  {
   "cell_type": "markdown",
   "metadata": {},
   "source": [
    "6) ANALYSIS AND CONCLUSION\n",
    "\n",
    "- The goal of this section is to answer the question: \"How healthy is the data science job market?\".\n",
    "\n",
    "\n",
    "- The data I pulled from the US Bureau of Labor Statistics (the principal fact-finding agency for the U.S. government in the broad field of labor economics and statistics) indicates that the data science job market is not only healthy, but that it is **projected to remain among the healthiest in the country between now and 2029**. \n",
    "\n",
    "\n",
    "- Out of the almost 800 occupational categories included in this study, data science related occupations ranked number 11 in terms of the percentage of projected employment growth in the US over the next 8 years.\n",
    "\n",
    "\n",
    "- This comes as no surprise given the primacy of \"big data\" in today's world, but it has been instructive to look the data myself."
   ]
  },
  {
   "cell_type": "markdown",
   "metadata": {},
   "source": [
    "***"
   ]
  },
  {
   "cell_type": "markdown",
   "metadata": {},
   "source": [
    "### **NEXT SECTION** | QUESTION 2: *What data analysis tools/languages/skills are in high demand?*"
   ]
  }
 ],
 "metadata": {
  "kernelspec": {
   "display_name": "Python 3",
   "language": "python",
   "name": "python3"
  },
  "language_info": {
   "codemirror_mode": {
    "name": "ipython",
    "version": 3
   },
   "file_extension": ".py",
   "mimetype": "text/x-python",
   "name": "python",
   "nbconvert_exporter": "python",
   "pygments_lexer": "ipython3",
   "version": "3.8.5"
  }
 },
 "nbformat": 4,
 "nbformat_minor": 4
}
