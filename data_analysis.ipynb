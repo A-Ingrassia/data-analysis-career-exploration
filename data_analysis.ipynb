{
 "cells": [
  {
   "cell_type": "markdown",
   "metadata": {},
   "source": [
    "# Andrew Ingrassia |  *Data Analysis Career Exploration*"
   ]
  },
  {
   "cell_type": "code",
   "execution_count": 5,
   "metadata": {},
   "outputs": [],
   "source": [
    "import pandas as pd\n",
    "from matplotlib import pyplot as plt\n",
    "from matplotlib import patches as mpatches\n",
    "\n",
    "df = pd.read_csv(\"bls_projections.csv\")           # see \"DF3 OVERVIEW\" for description"
   ]
  },
  {
   "cell_type": "markdown",
   "metadata": {},
   "source": [
    "***"
   ]
  },
  {
   "cell_type": "markdown",
   "metadata": {},
   "source": [
    "### **PROJECT GOALS**\n",
    "\n",
    "\n",
    "- Describe the circumstances that led me to pursue a career in data analysis\n",
    "\n",
    "\n",
    "- Convey my suitability for a career in data analysis\n",
    "\n",
    "\n",
    "- Demonstrate a basic understanding of data analysis tools, concepts, and techniques\n",
    "\n",
    "\n",
    "- Practice my newly acquired data analysis skills by putting them to use in the context of a real-world project of personal significance\n",
    "\n",
    "\n",
    "- Investigate the health of the data analysis and data science job markets using data from the US Bureau of Labor Statistics"
   ]
  },
  {
   "cell_type": "markdown",
   "metadata": {},
   "source": [
    "***"
   ]
  },
  {
   "cell_type": "markdown",
   "metadata": {},
   "source": [
    "### **BACKGROUND**"
   ]
  },
  {
   "cell_type": "markdown",
   "metadata": {},
   "source": [
    "1) PERSONAL HISTORY\n",
    "\n",
    "I attended Lindenwood University in St. Charles, MO and obtained a bachelor's degree in \"Missions and Social Justice\" (a subset of Lindenwood's \"Christian Ministry Studies\" program) in 2011. At the time I was also a medic in the Missouri Army National Guard and worked part-time for a family member as a house painter. I pursued that particular degree with the intention of going on to seminary and eventually entering full-time ministry, but those plans changed near the end of my time at Lindenwood due to a significant shift in worldview. That being the case, I was uncertain about how to proceed with life after graduation. Life carried on regardless of my uncertainty, and I got married, had two children, and started a residential painting business where I carved out a comfortable niche for myself specializing in high-end interior painting and cabinet refinishing. Painting was a great career that paid well enough and afforded me plenty of my beloved autonomy and independence, but I became increasingly unsatisfied as time went on. I didn't feel challenged, and in 2019 I started exploring other options.\n",
    "\n",
    "\n",
    "2) WHY I CHOSE COMPUTER SCIENCE\n",
    "\n",
    "I have always been interested in computers, but had not seriously considered a career in computer science until after undergoing a battery of personality and career aptitude tests. Every assessment tool that I used indicated strongly that I ought to consider a career in computer science. This is due not only to fact that computer science happens to align with my personal interests, but also to the fact that I possess certain temperamental qualities and behavioral tendencies common among those who find themselves pursuing computer science related careers.\n",
    "    \n",
    "\n",
    "Here are some relevant snippets from my personality test results:\n",
    "\n",
    "- *Tendency to analyze systems and ideas thoroughly to create deep understanding*\n",
    "\n",
    "\n",
    "- *Tendency to enjoy designing creative solutions to highly abstract problems*\n",
    "\n",
    "\n",
    "- *Tendency to enjoy addressing complex theoretical or technical problems with creative, novel solutions*\n",
    "\n",
    "\n",
    "- *Tendency to choose careers that allow them to use their intellect, analyze concepts, and think deeply*\n",
    "\n",
    "\n",
    "- *Tendency to enjoy working with ideas more than with people (tech/engineering = good | sales/nursing = bad)*\n",
    "\n",
    "\n",
    "- *Tendency to be fascinated with logical analysis, systems, and design*\n",
    "\n",
    "\n",
    "- *Logical, analytical, insightful, curious, independent, and objective*\n",
    "\n",
    "\n",
    "- *Innovative by nature and often drawn to cutting-edge fields such as technology, engineering, and the sciences*\n",
    "\n",
    "\n",
    "3) WHY I AM SELF-TAUGHT\n",
    "\n",
    "After a great deal of consideration, I decided to begin pursuing a second bachelor's degree in computer science. Because of the nature of my first degree, I had not yet completed the math courses required for application. I therefore began taking one math class at a time at my local community college until I fulfilled the requirements for application to Oregon State University's online post-baccalaureate computer science program, which I began in January of 2020. I had heard of \"self-taught programmers\" before, but by this point in time I was insufficiently familiar with the territory and never seriously considered taking that route. It wasn't until my second semester in OSU's program that I began to become acquainted with the vast expanse of readily available, high quality, and inexpensive (or in many instances completely free) computer science related educational resources. I came to the realization that even though it would mean forgoing a second degree, I could actually learn more effectively by teaching myself than I could by sticking with OSU's program. So after careful consideration, I decided to drop out of OSU in my second semester and began learning independently - a decision that I viewed as conveying the following advantages:\n",
    "    \n",
    "- *I could spend significantly less money and incur no additional student loan debt*\n",
    "\n",
    "\n",
    "- *I could learn at my own pace*\n",
    "\n",
    "\n",
    "- *I could learn exclusively from materials that I found to be more useful and effective compared to the OSU curriculum*\n",
    "\n",
    "\n",
    "- *I could focus more precisely on developing job-specific skills*\n",
    "\n",
    "\n",
    "- *I could be job-ready in less time*\n",
    "\n",
    "\n",
    "- *I could have a more flexible schedule while I learned, freeing me up to watch my kids when needed (to save on daycare costs) as well as to pick up side work as a painter*\n",
    "    \n",
    "\n",
    "4) WHY I CHOSE DATA ANALYSIS\n",
    "\n",
    "I have felt drawn toward data science ever since I began thinking about switching careers. It strikes me as a field that is tailor-made for people with my temperament. I initially assumed that pursuing data science in any form was off the table because doing so would entail taking so many prerequisite math courses that I wouldn't be able to obtain a degree in a reasonable ammount of time. But I eventually came to understand that under the umbrella of “data science” exists a wide spectrum of responsibilities and associated educational requirements. I was thrilled to learn that a career in data analysis was actually a practical, achievable goal. Since then I have enjoyed learning to work with large datasets using Python in conjunction with tools like Pandas, Matplotlib, and Jupyter Notebooks. I feel as though I have found a niche into which my talents, personality, and interests fit perfectly, and I am excited to begin putting my newly acquired skills to work in the real world."
   ]
  },
  {
   "cell_type": "markdown",
   "metadata": {},
   "source": [
    "***"
   ]
  },
  {
   "cell_type": "markdown",
   "metadata": {},
   "source": [
    "**NOTE:** What follows is my analysis of a dataset from the US Bureau of Labor Statistics with the goal of understanding the state of the data science and data analysis job markets..."
   ]
  },
  {
   "cell_type": "markdown",
   "metadata": {},
   "source": [
    "***"
   ]
  },
  {
   "cell_type": "markdown",
   "metadata": {},
   "source": [
    "### **DATA OVERVIEW**: \"Bureau of Labor Statistics - Occupational Projections Data\"\n",
    "\n",
    "\n",
    "*Dataset Link*: https://data.bls.gov/projections/occupationProj | *Full Dataset Explanation*: https://www.bls.gov/emp/documentation/nem-definitions.htm\n",
    "\n",
    "\n",
    "This dataset comes from the US Bureau of Labor Statistics and presents occupational data related to:\n",
    "\n",
    "- *Historical and projected employment by occupation (2019 - 2029)*\n",
    "\n",
    "\n",
    "- *Projections of separations from occupations that will result in openings for new workers (2019 - 2029)*\n",
    "\n",
    "\n",
    "- *Typical education, experience, and training requirements for each occupation*\n",
    "\n",
    "\n",
    "- *Average annual occupational openings (2019 - 2029)*\n",
    "\n",
    "\n",
    "- *Median annual wages (as of 2020)*"
   ]
  },
  {
   "cell_type": "markdown",
   "metadata": {},
   "source": [
    "***"
   ]
  },
  {
   "cell_type": "markdown",
   "metadata": {},
   "source": [
    "### **UNDERSTANDING THE JOB MARKETS**"
   ]
  },
  {
   "cell_type": "markdown",
   "metadata": {},
   "source": [
    "1) ORGANIZING THE DATA"
   ]
  },
  {
   "cell_type": "code",
   "execution_count": 6,
   "metadata": {},
   "outputs": [],
   "source": [
    "# Creates a new df containing only data from df3 that is directly related to the question\n",
    "df_growth = df[[\"Occupation Title\", \n",
    "                \"Employment 2019\", \"Employment 2029\", \n",
    "                \"Employment Percent Change, 2019-2029\", \n",
    "                \"Occupational Openings, 2019-2029 Annual Average\"]]\n",
    "\n",
    "# Sorts the new df according to projected % employment growth from 2019 - 2029 (top 20 only)\n",
    "df_growth = df_growth.sort_values(\"Employment Percent Change, 2019-2029\", ascending = False).head(20)\n",
    "\n",
    "# Renames the new df columns for clarity\n",
    "df_growth = df_growth.rename(columns = {\"Occupation Title\": \"Occupation\", \n",
    "                                        \"Employment 2019\": \"2019\", \n",
    "                                        \"Employment 2029\": \"2029\", \n",
    "                                        \"Employment Percent Change, 2019-2029\": \"Growth\", \n",
    "                                        \"Occupational Openings, 2019-2029 Annual Average\": \"Openings\"})\n",
    "\n",
    "# Assigns new index values representing each associated occupation's rank (according to projected employment growth)\n",
    "rank = [1, 2, 3, 4, 5, 6, 7, 8, 9, 10, 11, 12, 13, 14, 15, 16, 17, 18, 19, 20]\n",
    "df_growth[\"Rank\"] = rank\n",
    "df_growth.set_index(\"Rank\", inplace = True)\n",
    "\n",
    "\n",
    "# Adds a \"Code\" column containing letters that each represent the associated occupation (wind turbine service tech = \"A\", etc.)\n",
    "occupation_codes = [\"A\", \"B\", \"C\", \"D\", \"E\", \"F\", \"G\", \"H\", \"I\", \"J\", \"K\", \"L\", \"M\", \"N\", \"O\", \"P\", \"Q\", \"R\", \"S\", \"T\"]\n",
    "df_growth[\"Code\"] = occupation_codes"
   ]
  },
  {
   "cell_type": "markdown",
   "metadata": {},
   "source": [
    "***"
   ]
  },
  {
   "cell_type": "markdown",
   "metadata": {},
   "source": [
    "2) VIEWING THE MODIFIED DATAFRAME"
   ]
  },
  {
   "cell_type": "code",
   "execution_count": 7,
   "metadata": {},
   "outputs": [
    {
     "data": {
      "text/html": [
       "<div>\n",
       "<style scoped>\n",
       "    .dataframe tbody tr th:only-of-type {\n",
       "        vertical-align: middle;\n",
       "    }\n",
       "\n",
       "    .dataframe tbody tr th {\n",
       "        vertical-align: top;\n",
       "    }\n",
       "\n",
       "    .dataframe thead th {\n",
       "        text-align: right;\n",
       "    }\n",
       "</style>\n",
       "<table border=\"1\" class=\"dataframe\">\n",
       "  <thead>\n",
       "    <tr style=\"text-align: right;\">\n",
       "      <th></th>\n",
       "      <th>Occupation</th>\n",
       "      <th>2019</th>\n",
       "      <th>2029</th>\n",
       "      <th>Growth</th>\n",
       "      <th>Openings</th>\n",
       "      <th>Code</th>\n",
       "    </tr>\n",
       "    <tr>\n",
       "      <th>Rank</th>\n",
       "      <th></th>\n",
       "      <th></th>\n",
       "      <th></th>\n",
       "      <th></th>\n",
       "      <th></th>\n",
       "      <th></th>\n",
       "    </tr>\n",
       "  </thead>\n",
       "  <tbody>\n",
       "    <tr>\n",
       "      <th>1</th>\n",
       "      <td>Wind turbine service technicians    * Wind Ene...</td>\n",
       "      <td>7.0</td>\n",
       "      <td>11.3</td>\n",
       "      <td>60.7</td>\n",
       "      <td>1.3</td>\n",
       "      <td>A</td>\n",
       "    </tr>\n",
       "    <tr>\n",
       "      <th>2</th>\n",
       "      <td>Nurse practitioners    * Acute Care Nurse Prac...</td>\n",
       "      <td>211.3</td>\n",
       "      <td>322.0</td>\n",
       "      <td>52.4</td>\n",
       "      <td>24.2</td>\n",
       "      <td>B</td>\n",
       "    </tr>\n",
       "    <tr>\n",
       "      <th>3</th>\n",
       "      <td>Solar photovoltaic installers    * PV Installe...</td>\n",
       "      <td>12.0</td>\n",
       "      <td>18.1</td>\n",
       "      <td>50.5</td>\n",
       "      <td>2.3</td>\n",
       "      <td>C</td>\n",
       "    </tr>\n",
       "    <tr>\n",
       "      <th>4</th>\n",
       "      <td>Statisticians    * Analytical Statistician* Ap...</td>\n",
       "      <td>42.7</td>\n",
       "      <td>57.5</td>\n",
       "      <td>34.6</td>\n",
       "      <td>4.9</td>\n",
       "      <td>D</td>\n",
       "    </tr>\n",
       "    <tr>\n",
       "      <th>5</th>\n",
       "      <td>Occupational therapy assistants    * COTA* Cer...</td>\n",
       "      <td>47.1</td>\n",
       "      <td>63.5</td>\n",
       "      <td>34.6</td>\n",
       "      <td>6.9</td>\n",
       "      <td>E</td>\n",
       "    </tr>\n",
       "    <tr>\n",
       "      <th>6</th>\n",
       "      <td>Home health and personal care aides</td>\n",
       "      <td>3,439.7</td>\n",
       "      <td>4,599.2</td>\n",
       "      <td>33.7</td>\n",
       "      <td>568.8</td>\n",
       "      <td>F</td>\n",
       "    </tr>\n",
       "    <tr>\n",
       "      <th>7</th>\n",
       "      <td>Physical therapist assistants    * LPTA* Licen...</td>\n",
       "      <td>98.7</td>\n",
       "      <td>130.9</td>\n",
       "      <td>32.6</td>\n",
       "      <td>15.1</td>\n",
       "      <td>G</td>\n",
       "    </tr>\n",
       "    <tr>\n",
       "      <th>8</th>\n",
       "      <td>Medical and health services managers    * Clin...</td>\n",
       "      <td>422.3</td>\n",
       "      <td>555.5</td>\n",
       "      <td>31.5</td>\n",
       "      <td>47.0</td>\n",
       "      <td>H</td>\n",
       "    </tr>\n",
       "    <tr>\n",
       "      <th>9</th>\n",
       "      <td>Physician assistants    * Anesthesiologist Ass...</td>\n",
       "      <td>125.5</td>\n",
       "      <td>164.8</td>\n",
       "      <td>31.3</td>\n",
       "      <td>11.4</td>\n",
       "      <td>I</td>\n",
       "    </tr>\n",
       "    <tr>\n",
       "      <th>10</th>\n",
       "      <td>Information security analysts</td>\n",
       "      <td>131.0</td>\n",
       "      <td>171.9</td>\n",
       "      <td>31.2</td>\n",
       "      <td>13.9</td>\n",
       "      <td>J</td>\n",
       "    </tr>\n",
       "    <tr>\n",
       "      <th>11</th>\n",
       "      <td>Data scientists and mathematical science occup...</td>\n",
       "      <td>33.2</td>\n",
       "      <td>43.4</td>\n",
       "      <td>30.9</td>\n",
       "      <td>3.6</td>\n",
       "      <td>K</td>\n",
       "    </tr>\n",
       "    <tr>\n",
       "      <th>12</th>\n",
       "      <td>Derrick operators, oil and gas    * Derrick Op...</td>\n",
       "      <td>12.0</td>\n",
       "      <td>15.7</td>\n",
       "      <td>30.5</td>\n",
       "      <td>2.0</td>\n",
       "      <td>L</td>\n",
       "    </tr>\n",
       "    <tr>\n",
       "      <th>13</th>\n",
       "      <td>Rotary drill operators, oil and gas    * Drill...</td>\n",
       "      <td>20.9</td>\n",
       "      <td>26.6</td>\n",
       "      <td>26.9</td>\n",
       "      <td>3.4</td>\n",
       "      <td>M</td>\n",
       "    </tr>\n",
       "    <tr>\n",
       "      <th>14</th>\n",
       "      <td>Roustabouts, oil and gas    * Oil Field Rousta...</td>\n",
       "      <td>58.5</td>\n",
       "      <td>73.1</td>\n",
       "      <td>25.1</td>\n",
       "      <td>8.8</td>\n",
       "      <td>N</td>\n",
       "    </tr>\n",
       "    <tr>\n",
       "      <th>15</th>\n",
       "      <td>Speech-language pathologists    * Language Pat...</td>\n",
       "      <td>162.6</td>\n",
       "      <td>203.1</td>\n",
       "      <td>24.9</td>\n",
       "      <td>13.7</td>\n",
       "      <td>O</td>\n",
       "    </tr>\n",
       "    <tr>\n",
       "      <th>16</th>\n",
       "      <td>Operations research analysts    * Operations A...</td>\n",
       "      <td>105.1</td>\n",
       "      <td>131.3</td>\n",
       "      <td>24.8</td>\n",
       "      <td>9.6</td>\n",
       "      <td>P</td>\n",
       "    </tr>\n",
       "    <tr>\n",
       "      <th>17</th>\n",
       "      <td>Substance abuse, behavioral disorder, and ment...</td>\n",
       "      <td>319.4</td>\n",
       "      <td>398.4</td>\n",
       "      <td>24.7</td>\n",
       "      <td>39.4</td>\n",
       "      <td>Q</td>\n",
       "    </tr>\n",
       "    <tr>\n",
       "      <th>18</th>\n",
       "      <td>Forest fire inspectors and prevention speciali...</td>\n",
       "      <td>2.3</td>\n",
       "      <td>2.8</td>\n",
       "      <td>24.3</td>\n",
       "      <td>0.3</td>\n",
       "      <td>R</td>\n",
       "    </tr>\n",
       "    <tr>\n",
       "      <th>19</th>\n",
       "      <td>Cooks, restaurant    * Banquet Cook* Breakfast...</td>\n",
       "      <td>1,417.3</td>\n",
       "      <td>1,744.6</td>\n",
       "      <td>23.1</td>\n",
       "      <td>237.2</td>\n",
       "      <td>S</td>\n",
       "    </tr>\n",
       "    <tr>\n",
       "      <th>20</th>\n",
       "      <td>Service unit operators, oil and gas    * Oil W...</td>\n",
       "      <td>51.7</td>\n",
       "      <td>63.6</td>\n",
       "      <td>22.9</td>\n",
       "      <td>8.1</td>\n",
       "      <td>T</td>\n",
       "    </tr>\n",
       "  </tbody>\n",
       "</table>\n",
       "</div>"
      ],
      "text/plain": [
       "                                             Occupation     2019     2029  \\\n",
       "Rank                                                                        \n",
       "1     Wind turbine service technicians    * Wind Ene...      7.0     11.3   \n",
       "2     Nurse practitioners    * Acute Care Nurse Prac...    211.3    322.0   \n",
       "3     Solar photovoltaic installers    * PV Installe...     12.0     18.1   \n",
       "4     Statisticians    * Analytical Statistician* Ap...     42.7     57.5   \n",
       "5     Occupational therapy assistants    * COTA* Cer...     47.1     63.5   \n",
       "6                   Home health and personal care aides  3,439.7  4,599.2   \n",
       "7     Physical therapist assistants    * LPTA* Licen...     98.7    130.9   \n",
       "8     Medical and health services managers    * Clin...    422.3    555.5   \n",
       "9     Physician assistants    * Anesthesiologist Ass...    125.5    164.8   \n",
       "10                        Information security analysts    131.0    171.9   \n",
       "11    Data scientists and mathematical science occup...     33.2     43.4   \n",
       "12    Derrick operators, oil and gas    * Derrick Op...     12.0     15.7   \n",
       "13    Rotary drill operators, oil and gas    * Drill...     20.9     26.6   \n",
       "14    Roustabouts, oil and gas    * Oil Field Rousta...     58.5     73.1   \n",
       "15    Speech-language pathologists    * Language Pat...    162.6    203.1   \n",
       "16    Operations research analysts    * Operations A...    105.1    131.3   \n",
       "17    Substance abuse, behavioral disorder, and ment...    319.4    398.4   \n",
       "18    Forest fire inspectors and prevention speciali...      2.3      2.8   \n",
       "19    Cooks, restaurant    * Banquet Cook* Breakfast...  1,417.3  1,744.6   \n",
       "20    Service unit operators, oil and gas    * Oil W...     51.7     63.6   \n",
       "\n",
       "      Growth  Openings Code  \n",
       "Rank                         \n",
       "1       60.7       1.3    A  \n",
       "2       52.4      24.2    B  \n",
       "3       50.5       2.3    C  \n",
       "4       34.6       4.9    D  \n",
       "5       34.6       6.9    E  \n",
       "6       33.7     568.8    F  \n",
       "7       32.6      15.1    G  \n",
       "8       31.5      47.0    H  \n",
       "9       31.3      11.4    I  \n",
       "10      31.2      13.9    J  \n",
       "11      30.9       3.6    K  \n",
       "12      30.5       2.0    L  \n",
       "13      26.9       3.4    M  \n",
       "14      25.1       8.8    N  \n",
       "15      24.9      13.7    O  \n",
       "16      24.8       9.6    P  \n",
       "17      24.7      39.4    Q  \n",
       "18      24.3       0.3    R  \n",
       "19      23.1     237.2    S  \n",
       "20      22.9       8.1    T  "
      ]
     },
     "execution_count": 7,
     "metadata": {},
     "output_type": "execute_result"
    }
   ],
   "source": [
    "df_growth   # modified version of the original \"df\" dataframe"
   ]
  },
  {
   "cell_type": "markdown",
   "metadata": {},
   "source": [
    "***"
   ]
  },
  {
   "cell_type": "markdown",
   "metadata": {},
   "source": [
    "3) DATA OVERVIEW\n",
    "\n",
    "- According to the US Bureau of Labor Statistics, these 20 occupations (out of the 790 from the original dataset) are projected to experience the highest percentages of employment growth between 2019 and 2029.\n",
    "\n",
    "\n",
    "- Notice that a high projected employment growth rate doesn't necessarily translate to a large number of annual openings given that some industries are smaller than others. For example, the projected 60.7% increase in wind turbine maintenance related employment growth (\"A\") represents only 1,300 annual openings, whereas the projected 22.9% increase in service unit operation related employment growth (\"T\") represents 8,100 annual openings."
   ]
  },
  {
   "cell_type": "markdown",
   "metadata": {},
   "source": [
    "***"
   ]
  },
  {
   "cell_type": "markdown",
   "metadata": {},
   "source": [
    "4) COLUMN EXPLANATIONS\n",
    "\n",
    "- **Rank** - each occupation's rank according to the associated value within the the \"Growth\" column\n",
    "\n",
    "\n",
    "- **Occupation** - occupation titles\n",
    "\n",
    "\n",
    "- **2019** - employment (in thousands) within the associated occupation in 2019\n",
    "\n",
    "\n",
    "- **2029** - projected employment (in thousands) within the associated occupation by 2029\n",
    "\n",
    "\n",
    "- **Growth** - projected percent increase in employment within the associated occupation by 2029\n",
    "\n",
    "\n",
    "- **Openings** - projected annual average number (in thousands) of openings/positions for workers entering the associated occupation between 2019 and 2029\n",
    "\n",
    "\n",
    "- **Code** - each occupation title is assigned a letter that will represent that occupation within my visualization"
   ]
  },
  {
   "cell_type": "markdown",
   "metadata": {},
   "source": [
    "***"
   ]
  },
  {
   "cell_type": "markdown",
   "metadata": {},
   "source": [
    "5) VISUALIZING THE DATA: \"PROJECTED EMPLOYMENT GROWTH 2019 - 2029\""
   ]
  },
  {
   "cell_type": "markdown",
   "metadata": {},
   "source": [
    "- The following plot represents the projected percentage of employment growth for each of the occupational categories listed in the \"df_growth\" dataframe\n",
    "\n",
    "\n",
    "- The bars representing the data science and data analysis related occupational categories are labeled on the plot itself - for the full list of categories and their associated letter codes, see the \"df_growth\" dataframe from \"VIEWING THE MODIFIED DATAFRAME\""
   ]
  },
  {
   "cell_type": "code",
   "execution_count": 8,
   "metadata": {},
   "outputs": [
    {
     "data": {
      "text/plain": [
       "<matplotlib.legend.Legend at 0x269f72272e0>"
      ]
     },
     "execution_count": 8,
     "metadata": {},
     "output_type": "execute_result"
    },
    {
     "data": {
      "image/png": "[encoded data removed]",
      "text/plain": [
       "<Figure size 864x360 with 1 Axes>"
      ]
     },
     "metadata": {
      "needs_background": "light"
     },
     "output_type": "display_data"
    }
   ],
   "source": [
    "# Creates the plot, sets the x and y axes, and determines the aesthetic characteristics of the bars\n",
    "plt.bar(df_growth[\"Code\"], \n",
    "        df_growth[\"Growth\"], \n",
    "        color = [\"b\", \"b\", \"b\", \"b\", \"b\", \"b\", \"b\", \"b\", \"b\", \"b\", \"green\", \"b\", \"b\", \"b\", \"b\", \"purple\", \"b\", \"b\", \"b\", \"b\"], \n",
    "        edgecolor = \"black\")\n",
    "\n",
    "# Adds a label to the x axis\n",
    "plt.xlabel(\"Occupation Codes\")\n",
    "\n",
    "# Adds a label to the y axis\n",
    "plt.ylabel(\"% Growth\")\n",
    "\n",
    "# Adds a title to the plot\n",
    "plt.title(\"PROJECTED EMPLOYMENT GROWTH 2019 - 2029\")\n",
    "\n",
    "# Customizes the plot dimensions\n",
    "plt.rcParams[\"figure.figsize\"] = [12, 5]\n",
    "\n",
    "# Adds a custom legend to the plot\n",
    "data_science = mpatches.Patch(color = \"green\", label = \"Data Scientist\")\n",
    "data_analysis = mpatches.Patch(color = \"purple\", label = \"Operations Analyst\")\n",
    "plt.legend(handles = [data_science, data_analysis])"
   ]
  },
  {
   "cell_type": "markdown",
   "metadata": {},
   "source": [
    "***"
   ]
  },
  {
   "cell_type": "markdown",
   "metadata": {},
   "source": [
    "6) ANALYSIS\n",
    "\n",
    "- The goal of this section is to answer the question: \"How healthy is the data science job market?\".\n",
    "\n",
    "- The data I pulled from the US Bureau of Labor Statistics (the principal fact-finding agency for the U.S. government in the broad field of labor economics and statistics) indicates that the data science and data analysis (aka \"operations analysis\") job markets are not only healthy, but that they are **projected to remain among the healthiest in the country between now and 2029**. \n",
    "\n",
    "\n",
    "- Out of the 790 occupational categories included in this study, data science and data analysis related occupations ranked number 11 and number 16 respectively in terms of their percentage of projected employment growth in the US over the next 8 years.\n",
    "\n",
    "\n",
    "- This comes as no surprise given the primacy of \"big data\" in today's world, but it has certainly been instructive to look the data myself."
   ]
  },
  {
   "cell_type": "markdown",
   "metadata": {},
   "source": [
    "***"
   ]
  },
  {
   "cell_type": "markdown",
   "metadata": {},
   "source": [
    "### **CONCLUSION**"
   ]
  },
  {
   "cell_type": "markdown",
   "metadata": {},
   "source": [
    "1) I feel confident in my ability to succeed as a data analyst - I possess the intellectual capacity, temperamental suitability, interest level, and self-generated drive. I don't tend to make decisions lightly and I pride myself on my ability to remain objective. That being said, I wouldn't have come this far if I wasn't absolutely convinced that it was the right decision.\n",
    "\n",
    "2) Personal suitability and motivation aside, it also happens to be the case that individuals possessing skills related to data science and data analysis are in high demand right now - and that demand is projected to continue for quite some time. \n",
    "\n",
    "3) I don't think I could have chosen a better career path for myself, and I'm determined to make it happen this year."
   ]
  }
 ],
 "metadata": {
  "kernelspec": {
   "display_name": "Python 3",
   "language": "python",
   "name": "python3"
  },
  "language_info": {
   "codemirror_mode": {
    "name": "ipython",
    "version": 3
   },
   "file_extension": ".py",
   "mimetype": "text/x-python",
   "name": "python",
   "nbconvert_exporter": "python",
   "pygments_lexer": "ipython3",
   "version": "3.8.5"
  }
 },
 "nbformat": 4,
 "nbformat_minor": 4
}
